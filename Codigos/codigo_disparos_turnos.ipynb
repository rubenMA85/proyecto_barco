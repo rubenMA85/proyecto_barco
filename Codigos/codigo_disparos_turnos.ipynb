{
 "cells": [
  {
   "cell_type": "code",
   "execution_count": 9,
   "metadata": {},
   "outputs": [],
   "source": [
    "import numpy as np"
   ]
  },
  {
   "cell_type": "code",
   "execution_count": 8,
   "metadata": {},
   "outputs": [
    {
     "ename": "SyntaxError",
     "evalue": "expected ':' (3573795411.py, line 32)",
     "output_type": "error",
     "traceback": [
      "\u001b[1;36m  Cell \u001b[1;32mIn[8], line 32\u001b[1;36m\u001b[0m\n\u001b[1;33m    if tablerocpu_b[tirouy,tiroux] == (\"X\" or \"F\") #si la coordenada ya ha sido ingresada -user-, y fue Asertivo o Fallado -tablero cpu-\u001b[0m\n\u001b[1;37m                                                   ^\u001b[0m\n\u001b[1;31mSyntaxError\u001b[0m\u001b[1;31m:\u001b[0m expected ':'\n"
     ]
    }
   ],
   "source": [
    "import numpy as np\n",
    "\n",
    "#Tableros\n",
    "tablerocpu_b = np.full((10,10),\" \")\n",
    "tablerocpu_t = np.full((10,10),\" \")\n",
    "tablerouser_b = np.full((10,10),\" \")\n",
    "tablerouser_t = np.full((10,10),\" \")\n",
    "\n",
    "tablerocpu_b[3,3:7] = \"O\"\n",
    "tablerocpu_b[1:4,9] = \"O\"\n",
    "tablerocpu_b[6:10,7] = \"O\"\n",
    "tablerocpu_b[8,1:4] = \"O\"\n",
    "print(tablerocpu_b,\"\\n\")\n",
    "\n",
    "tablerouser_b[4,5:9] = \"O\"\n",
    "tablerouser_b[3,2:5] = \"O\"\n",
    "tablerouser_b[6:10,7] = \"O\"\n",
    "tablerouser_b[8,1:4] = \"O\"\n",
    "print(tablerouser_b)\n",
    "\n",
    "#Inicio de Partida\n",
    "barcoscpu = 14\n",
    "barcosuser = 14\n",
    "\n",
    "while barcoscpu > 0 and barcosuser > 0:\n",
    "    #pido coordenadas y coloca en tupla\n",
    "    tiroux = int(input(\"ingresa coordenada en x\"))\n",
    "    tirouy = int(input(\"ingresa coordenada en y\"))\n",
    "    tirouser = tuple[tiroux,tirouy]\n",
    "\n",
    "    #verifico objetivo de disparo de user\n",
    "    if tablerocpu_b[tirouy,tiroux] == (\"X\" or \"F\"): #si la coordenada ya ha sido ingresada -user-, y fue Asertivo o Fallado -tablero cpu-\n",
    "        print(\"Escoge otras coordenadas\")\n",
    "    elif tablerocpu_b[tirouy,tiroux] == \"O\": #tiro asertivo, \n",
    "        barcoscpu = barcoscpu-1 #disminuyo total de esloras cpu\n",
    "        tablerocpu_b[tirouy,tiroux] = \"X\" #modifico tablero barcos cpu\n",
    "        tablerouser_t[tirouy,tiroux] = \"X\" #modifico trablero tiros user\n",
    "    elif tablerocpu_b[tirouy,tiroux] == \" \":\n",
    "        tablerocpu_b[tirouy,tiroux] = \"F\" #modifico tablero barcos cpu\n",
    "        tablerouser_t[tirouy,tiroux] = \"F\" #modifico trablero tiros user\n",
    "        print(\"Fallaste, turno de la computadora\")\n",
    "        \n",
    "\n",
    "        \n",
    "\n",
    "\n",
    "\n",
    "\n"
   ]
  },
  {
   "cell_type": "code",
   "execution_count": 20,
   "metadata": {},
   "outputs": [
    {
     "data": {
      "text/plain": [
       "array([[1, 3]])"
      ]
     },
     "execution_count": 20,
     "metadata": {},
     "output_type": "execute_result"
    }
   ],
   "source": [
    "import pandas as pd\n",
    "np.random.randint(10,size = (1,2))"
   ]
  }
 ],
 "metadata": {
  "kernelspec": {
   "display_name": "Python 3",
   "language": "python",
   "name": "python3"
  },
  "language_info": {
   "codemirror_mode": {
    "name": "ipython",
    "version": 3
   },
   "file_extension": ".py",
   "mimetype": "text/x-python",
   "name": "python",
   "nbconvert_exporter": "python",
   "pygments_lexer": "ipython3",
   "version": "3.12.0"
  }
 },
 "nbformat": 4,
 "nbformat_minor": 2
}
